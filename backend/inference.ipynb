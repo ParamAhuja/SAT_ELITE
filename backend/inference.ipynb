{
 "cells": [
  {
   "cell_type": "markdown",
   "id": "5564314d",
   "metadata": {
    "papermill": {
     "duration": 0.005389,
     "end_time": "2025-07-25T11:28:35.857159",
     "exception": false,
     "start_time": "2025-07-25T11:28:35.851770",
     "status": "completed"
    },
    "tags": []
   },
   "source": [
    "---\n",
    "\n",
    "<h1 style=\"text-align: center;font-size: 40px;\">Tutorial: Upscaling images using ESRGAN</h1>\n",
    "\n",
    "---"
   ]
  },
  {
   "cell_type": "markdown",
   "id": "05897de9",
   "metadata": {
    "papermill": {
     "duration": 0.004227,
     "end_time": "2025-07-25T11:28:35.866064",
     "exception": false,
     "start_time": "2025-07-25T11:28:35.861837",
     "status": "completed"
    },
    "tags": []
   },
   "source": [
    ">ESRGAN is builted using a underlying architecture called Generative adversarial Network(GAN). GANs are capable of generating Fake data that looks realistic. Some of the GAN applications are to enhance the quality of the image. The high-level architecture of the GAN contains two main networks namely the generator network and the discriminator network. The generator network tries to generate the fake data and the discriminator network tries to distinguish between real and fake data, hence helping the generator to generate more realistic data.\n",
    "\n",
    ">You can take your own low resolution images, pass it uthrough the pipeline and you will be able to get high resolution images generated through it. Now, in terms of using this model theres a couple of key things, that we need to set up:\n",
    "> 1. Clone Github repository\n",
    "> 2. Download pretrained model\n",
    "> 3. Install dependencies"
   ]
  },
  {
   "cell_type": "code",
   "execution_count": 1,
   "id": "6594b019",
   "metadata": {
    "_cell_guid": "b1076dfc-b9ad-4769-8c92-a6c4dae69d19",
    "_uuid": "8f2839f25d086af736a60e9eeb907d3b93b6e0e5",
    "execution": {
     "iopub.execute_input": "2025-07-25T11:28:35.876045Z",
     "iopub.status.busy": "2025-07-25T11:28:35.875745Z",
     "iopub.status.idle": "2025-07-25T11:28:37.506463Z",
     "shell.execute_reply": "2025-07-25T11:28:37.505570Z"
    },
    "papermill": {
     "duration": 1.637716,
     "end_time": "2025-07-25T11:28:37.508143",
     "exception": false,
     "start_time": "2025-07-25T11:28:35.870427",
     "status": "completed"
    },
    "tags": []
   },
   "outputs": [
    {
     "name": "stdout",
     "output_type": "stream",
     "text": [
      "Cloning into 'ESRGAN'...\r\n",
      "remote: Enumerating objects: 225, done.\u001b[K\r\n",
      "remote: Counting objects: 100% (20/20), done.\u001b[K\r\n",
      "remote: Compressing objects: 100% (6/6), done.\u001b[K\r\n",
      "remote: Total 225 (delta 15), reused 14 (delta 14), pack-reused 205 (from 1)\u001b[K\r\n",
      "Receiving objects: 100% (225/225), 24.86 MiB | 41.93 MiB/s, done.\r\n",
      "Resolving deltas: 100% (85/85), done.\r\n"
     ]
    }
   ],
   "source": [
    "#Cloning github repo\n",
    "!git clone https://github.com/xinntao/ESRGAN"
   ]
  },
  {
   "cell_type": "markdown",
   "id": "b4504868",
   "metadata": {
    "papermill": {
     "duration": 0.004854,
     "end_time": "2025-07-25T11:28:37.518623",
     "exception": false,
     "start_time": "2025-07-25T11:28:37.513769",
     "status": "completed"
    },
    "tags": []
   },
   "source": [
    ">Let's see how this Git Repo looks like:"
   ]
  },
  {
   "cell_type": "code",
   "execution_count": 2,
   "id": "6df55acc",
   "metadata": {
    "_kg_hide-output": true,
    "execution": {
     "iopub.execute_input": "2025-07-25T11:28:37.530459Z",
     "iopub.status.busy": "2025-07-25T11:28:37.530031Z",
     "iopub.status.idle": "2025-07-25T11:28:44.005976Z",
     "shell.execute_reply": "2025-07-25T11:28:44.005023Z"
    },
    "papermill": {
     "duration": 6.484006,
     "end_time": "2025-07-25T11:28:44.007752",
     "exception": false,
     "start_time": "2025-07-25T11:28:37.523746",
     "status": "completed"
    },
    "tags": []
   },
   "outputs": [
    {
     "name": "stdout",
     "output_type": "stream",
     "text": [
      "Collecting seedir\r\n",
      "  Downloading seedir-0.5.1-py3-none-any.whl.metadata (1.8 kB)\r\n",
      "Requirement already satisfied: natsort in /usr/local/lib/python3.11/dist-packages (from seedir) (8.4.0)\r\n",
      "Downloading seedir-0.5.1-py3-none-any.whl (113 kB)\r\n",
      "\u001b[2K   \u001b[90m━━━━━━━━━━━━━━━━━━━━━━━━━━━━━━━━━━━━━━━━\u001b[0m \u001b[32m114.0/114.0 kB\u001b[0m \u001b[31m2.9 MB/s\u001b[0m eta \u001b[36m0:00:00\u001b[0m\r\n",
      "\u001b[?25hInstalling collected packages: seedir\r\n",
      "Successfully installed seedir-0.5.1\r\n"
     ]
    }
   ],
   "source": [
    "!pip install seedir"
   ]
  },
  {
   "cell_type": "code",
   "execution_count": 3,
   "id": "c82587da",
   "metadata": {
    "execution": {
     "iopub.execute_input": "2025-07-25T11:28:44.020753Z",
     "iopub.status.busy": "2025-07-25T11:28:44.020136Z",
     "iopub.status.idle": "2025-07-25T11:28:44.130314Z",
     "shell.execute_reply": "2025-07-25T11:28:44.129266Z"
    },
    "papermill": {
     "duration": 0.118419,
     "end_time": "2025-07-25T11:28:44.131944",
     "exception": false,
     "start_time": "2025-07-25T11:28:44.013525",
     "status": "completed"
    },
    "tags": []
   },
   "outputs": [
    {
     "name": "stdout",
     "output_type": "stream",
     "text": [
      "📁 working/\n",
      "├─📄 __notebook__.ipynb\n",
      "└─📁 ESRGAN/\n",
      "  ├─📄 README.md\n",
      "  ├─📄 LICENSE\n",
      "  ├─📄 test.py\n",
      "  ├─📁 LR/\n",
      "  │ ├─📄 comic.png\n",
      "  │ └─📄 baboon.png\n",
      "  ├─📄 net_interp.py\n",
      "  ├─📄 transer_RRDB_models.py\n",
      "  ├─📄 QA.md\n",
      "  ├─📄 RRDBNet_arch.py\n",
      "  ├─📄 .gitignore\n",
      "  ├─📁 results/\n",
      "  │ └─📄 baboon_ESRGAN.png\n",
      "  ├─📁 .git/\n",
      "  │ ├─📄 index\n",
      "  │ ├─📁 objects/\n",
      "  │ │ ├─📁 info/\n",
      "  │ │ └─📁 pack/\n",
      "  │ │   ├─📄 pack-746fb321eca9bded911514960e1278300ffe9aed.pack\n",
      "  │ │   └─📄 pack-746fb321eca9bded911514960e1278300ffe9aed.idx\n",
      "  │ ├─📄 config\n",
      "  │ ├─📁 logs/\n",
      "  │ │ ├─📄 HEAD\n",
      "  │ │ └─📁 refs/\n",
      "  │ │   ├─📁 heads/\n",
      "  │ │   │ └─📄 master\n",
      "  │ │   └─📁 remotes/\n",
      "  │ │     └─📁 origin/\n",
      "  │ │       └─📄 HEAD\n",
      "  │ ├─📄 HEAD\n",
      "  │ ├─📁 branches/\n",
      "  │ ├─📁 hooks/\n",
      "  │ │ ├─📄 push-to-checkout.sample\n",
      "  │ │ ├─📄 post-update.sample\n",
      "  │ │ ├─📄 pre-commit.sample\n",
      "  │ │ ├─📄 pre-merge-commit.sample\n",
      "  │ │ ├─📄 pre-receive.sample\n",
      "  │ │ ├─📄 pre-rebase.sample\n",
      "  │ │ ├─📄 commit-msg.sample\n",
      "  │ │ ├─📄 fsmonitor-watchman.sample\n",
      "  │ │ ├─📄 pre-push.sample\n",
      "  │ │ ├─📄 pre-applypatch.sample\n",
      "  │ │ ├─📄 applypatch-msg.sample\n",
      "  │ │ ├─📄 update.sample\n",
      "  │ │ └─📄 prepare-commit-msg.sample\n",
      "  │ ├─📁 info/\n",
      "  │ │ └─📄 exclude\n",
      "  │ ├─📄 description\n",
      "  │ ├─📁 refs/\n",
      "  │ │ ├─📁 tags/\n",
      "  │ │ ├─📁 heads/\n",
      "  │ │ │ └─📄 master\n",
      "  │ │ └─📁 remotes/\n",
      "  │ │   └─📁 origin/\n",
      "  │ │     └─📄 HEAD\n",
      "  │ └─📄 packed-refs\n",
      "  ├─📁 figures/\n",
      "  │ ├─📄 train_deeper_neta.png\n",
      "  │ ├─📄 102061.gif\n",
      "  │ ├─📄 patch_b.png\n",
      "  │ ├─📄 baboon.jpg\n",
      "  │ ├─📄 qualitative_cmp_01.jpg\n",
      "  │ ├─📄 81.gif\n",
      "  │ ├─📄 qualitative_cmp_03.jpg\n",
      "  │ ├─📄 abalation_study.png\n",
      "  │ ├─📄 net_interp.jpg\n",
      "  │ ├─📄 43074.gif\n",
      "  │ ├─📄 architecture.jpg\n",
      "  │ ├─📄 RRDB.png\n",
      "  │ ├─📄 qualitative_cmp_02.jpg\n",
      "  │ ├─📄 qualitative_cmp_04.jpg\n",
      "  │ ├─📄 BN_artifacts.jpg\n",
      "  │ ├─📄 train_deeper_netb.png\n",
      "  │ └─📄 patch_a.png\n",
      "  └─📁 models/\n",
      "    └─📄 README.md\n"
     ]
    }
   ],
   "source": [
    "import seedir as sd\n",
    "sd.seedir('./', style='emoji')"
   ]
  },
  {
   "cell_type": "markdown",
   "id": "315befc2",
   "metadata": {
    "papermill": {
     "duration": 0.006113,
     "end_time": "2025-07-25T11:28:44.144084",
     "exception": false,
     "start_time": "2025-07-25T11:28:44.137971",
     "status": "completed"
    },
    "tags": []
   },
   "source": [
    "> To download the pretrained model from google drive directly from here, i'm going to use a library called gdown:"
   ]
  },
  {
   "cell_type": "code",
   "execution_count": 4,
   "id": "caed073e",
   "metadata": {
    "_kg_hide-output": true,
    "execution": {
     "iopub.execute_input": "2025-07-25T11:28:44.156803Z",
     "iopub.status.busy": "2025-07-25T11:28:44.156066Z",
     "iopub.status.idle": "2025-07-25T11:28:47.964427Z",
     "shell.execute_reply": "2025-07-25T11:28:47.963265Z"
    },
    "papermill": {
     "duration": 3.817358,
     "end_time": "2025-07-25T11:28:47.966917",
     "exception": false,
     "start_time": "2025-07-25T11:28:44.149559",
     "status": "completed"
    },
    "tags": []
   },
   "outputs": [
    {
     "name": "stdout",
     "output_type": "stream",
     "text": [
      "Requirement already satisfied: gdown in /usr/local/lib/python3.11/dist-packages (5.2.0)\r\n",
      "Requirement already satisfied: beautifulsoup4 in /usr/local/lib/python3.11/dist-packages (from gdown) (4.13.4)\r\n",
      "Requirement already satisfied: filelock in /usr/local/lib/python3.11/dist-packages (from gdown) (3.18.0)\r\n",
      "Requirement already satisfied: requests[socks] in /usr/local/lib/python3.11/dist-packages (from gdown) (2.32.4)\r\n",
      "Requirement already satisfied: tqdm in /usr/local/lib/python3.11/dist-packages (from gdown) (4.67.1)\r\n",
      "Requirement already satisfied: soupsieve>1.2 in /usr/local/lib/python3.11/dist-packages (from beautifulsoup4->gdown) (2.7)\r\n",
      "Requirement already satisfied: typing-extensions>=4.0.0 in /usr/local/lib/python3.11/dist-packages (from beautifulsoup4->gdown) (4.14.0)\r\n",
      "Requirement already satisfied: charset_normalizer<4,>=2 in /usr/local/lib/python3.11/dist-packages (from requests[socks]->gdown) (3.4.2)\r\n",
      "Requirement already satisfied: idna<4,>=2.5 in /usr/local/lib/python3.11/dist-packages (from requests[socks]->gdown) (3.10)\r\n",
      "Requirement already satisfied: urllib3<3,>=1.21.1 in /usr/local/lib/python3.11/dist-packages (from requests[socks]->gdown) (2.5.0)\r\n",
      "Requirement already satisfied: certifi>=2017.4.17 in /usr/local/lib/python3.11/dist-packages (from requests[socks]->gdown) (2025.6.15)\r\n",
      "Requirement already satisfied: PySocks!=1.5.7,>=1.5.6 in /usr/local/lib/python3.11/dist-packages (from requests[socks]->gdown) (1.7.1)\r\n"
     ]
    }
   ],
   "source": [
    "!pip install gdown"
   ]
  },
  {
   "cell_type": "code",
   "execution_count": 5,
   "id": "0b6c3430",
   "metadata": {
    "execution": {
     "iopub.execute_input": "2025-07-25T11:28:47.980523Z",
     "iopub.status.busy": "2025-07-25T11:28:47.980168Z",
     "iopub.status.idle": "2025-07-25T11:28:47.984544Z",
     "shell.execute_reply": "2025-07-25T11:28:47.983737Z"
    },
    "papermill": {
     "duration": 0.012791,
     "end_time": "2025-07-25T11:28:47.985911",
     "exception": false,
     "start_time": "2025-07-25T11:28:47.973120",
     "status": "completed"
    },
    "tags": []
   },
   "outputs": [],
   "source": [
    "#import gdown\n",
    "# url = 'https://drive.google.com/file/d/1TPrz5QKd8DHHt1k8SRtm6tMiPjz_Qene/uc?usp=sharing'\n",
    "# output = 'RRDB_ESRGAN_x4.pth'\n",
    "# gdown.download(url, output, quiet=False)"
   ]
  },
  {
   "cell_type": "code",
   "execution_count": 6,
   "id": "c45f082a",
   "metadata": {
    "execution": {
     "iopub.execute_input": "2025-07-25T11:28:47.999372Z",
     "iopub.status.busy": "2025-07-25T11:28:47.998589Z",
     "iopub.status.idle": "2025-07-25T11:28:54.159621Z",
     "shell.execute_reply": "2025-07-25T11:28:54.158675Z"
    },
    "papermill": {
     "duration": 6.169409,
     "end_time": "2025-07-25T11:28:54.161231",
     "exception": false,
     "start_time": "2025-07-25T11:28:47.991822",
     "status": "completed"
    },
    "tags": []
   },
   "outputs": [
    {
     "name": "stdout",
     "output_type": "stream",
     "text": [
      "/usr/local/lib/python3.11/dist-packages/gdown/__main__.py:140: FutureWarning: Option `--id` was deprecated in version 4.3.1 and will be removed in 5.0. You don't need to pass it anymore to use a file ID.\r\n",
      "  warnings.warn(\r\n",
      "Downloading...\r\n",
      "From: https://drive.google.com/uc?id=1TPrz5QKd8DHHt1k8SRtm6tMiPjz_Qene\r\n",
      "To: /kaggle/working/RRDB_ESRGAN_x4.pth\r\n",
      "100%|██████████████████████████████████████| 66.9M/66.9M [00:01<00:00, 61.1MB/s]\r\n"
     ]
    }
   ],
   "source": [
    "# downloading the model \n",
    "import warnings\n",
    "warnings.filterwarnings(\"ignore\")\n",
    "!gdown --id 1TPrz5QKd8DHHt1k8SRtm6tMiPjz_Qene"
   ]
  },
  {
   "cell_type": "markdown",
   "id": "f287728f",
   "metadata": {
    "papermill": {
     "duration": 0.005944,
     "end_time": "2025-07-25T11:28:54.173655",
     "exception": false,
     "start_time": "2025-07-25T11:28:54.167711",
     "status": "completed"
    },
    "tags": []
   },
   "source": [
    ">Now installing some necessary dependencies for ESRGAN"
   ]
  },
  {
   "cell_type": "code",
   "execution_count": 7,
   "id": "2233925e",
   "metadata": {
    "_kg_hide-output": true,
    "execution": {
     "iopub.execute_input": "2025-07-25T11:28:54.187358Z",
     "iopub.status.busy": "2025-07-25T11:28:54.186896Z",
     "iopub.status.idle": "2025-07-25T11:28:57.919687Z",
     "shell.execute_reply": "2025-07-25T11:28:57.918715Z"
    },
    "papermill": {
     "duration": 3.742242,
     "end_time": "2025-07-25T11:28:57.921830",
     "exception": false,
     "start_time": "2025-07-25T11:28:54.179588",
     "status": "completed"
    },
    "tags": []
   },
   "outputs": [
    {
     "name": "stdout",
     "output_type": "stream",
     "text": [
      "Requirement already satisfied: opencv-python in /usr/local/lib/python3.11/dist-packages (4.11.0.86)\r\n",
      "Requirement already satisfied: glob2 in /usr/local/lib/python3.11/dist-packages (0.7)\r\n",
      "Requirement already satisfied: numpy>=1.21.2 in /usr/local/lib/python3.11/dist-packages (from opencv-python) (1.26.4)\r\n",
      "Requirement already satisfied: mkl_fft in /usr/local/lib/python3.11/dist-packages (from numpy>=1.21.2->opencv-python) (1.3.8)\r\n",
      "Requirement already satisfied: mkl_random in /usr/local/lib/python3.11/dist-packages (from numpy>=1.21.2->opencv-python) (1.2.4)\r\n",
      "Requirement already satisfied: mkl_umath in /usr/local/lib/python3.11/dist-packages (from numpy>=1.21.2->opencv-python) (0.1.1)\r\n",
      "Requirement already satisfied: mkl in /usr/local/lib/python3.11/dist-packages (from numpy>=1.21.2->opencv-python) (2025.2.0)\r\n",
      "Requirement already satisfied: tbb4py in /usr/local/lib/python3.11/dist-packages (from numpy>=1.21.2->opencv-python) (2022.2.0)\r\n",
      "Requirement already satisfied: mkl-service in /usr/local/lib/python3.11/dist-packages (from numpy>=1.21.2->opencv-python) (2.4.1)\r\n",
      "Requirement already satisfied: intel-openmp<2026,>=2024 in /usr/local/lib/python3.11/dist-packages (from mkl->numpy>=1.21.2->opencv-python) (2024.2.0)\r\n",
      "Requirement already satisfied: tbb==2022.* in /usr/local/lib/python3.11/dist-packages (from mkl->numpy>=1.21.2->opencv-python) (2022.2.0)\r\n",
      "Requirement already satisfied: tcmlib==1.* in /usr/local/lib/python3.11/dist-packages (from tbb==2022.*->mkl->numpy>=1.21.2->opencv-python) (1.4.0)\r\n",
      "Requirement already satisfied: intel-cmplr-lib-rt in /usr/local/lib/python3.11/dist-packages (from mkl_umath->numpy>=1.21.2->opencv-python) (2024.2.0)\r\n",
      "Requirement already satisfied: intel-cmplr-lib-ur==2024.2.0 in /usr/local/lib/python3.11/dist-packages (from intel-openmp<2026,>=2024->mkl->numpy>=1.21.2->opencv-python) (2024.2.0)\r\n"
     ]
    }
   ],
   "source": [
    "!pip install opencv-python glob2"
   ]
  },
  {
   "cell_type": "code",
   "execution_count": 8,
   "id": "b05f1e59",
   "metadata": {
    "_kg_hide-output": true,
    "execution": {
     "iopub.execute_input": "2025-07-25T11:28:57.937028Z",
     "iopub.status.busy": "2025-07-25T11:28:57.936695Z",
     "iopub.status.idle": "2025-07-25T11:30:39.881762Z",
     "shell.execute_reply": "2025-07-25T11:30:39.880215Z"
    },
    "papermill": {
     "duration": 101.955605,
     "end_time": "2025-07-25T11:30:39.884275",
     "exception": false,
     "start_time": "2025-07-25T11:28:57.928670",
     "status": "completed"
    },
    "tags": []
   },
   "outputs": [
    {
     "name": "stdout",
     "output_type": "stream",
     "text": [
      "Looking in indexes: https://pypi.org/simple, https://download.pytorch.org/whl/cu113\r\n",
      "Requirement already satisfied: torch in /usr/local/lib/python3.11/dist-packages (2.6.0+cu124)\r\n",
      "Requirement already satisfied: torchvision in /usr/local/lib/python3.11/dist-packages (0.21.0+cu124)\r\n",
      "Requirement already satisfied: torchaudio in /usr/local/lib/python3.11/dist-packages (2.6.0+cu124)\r\n",
      "Requirement already satisfied: filelock in /usr/local/lib/python3.11/dist-packages (from torch) (3.18.0)\r\n",
      "Requirement already satisfied: typing-extensions>=4.10.0 in /usr/local/lib/python3.11/dist-packages (from torch) (4.14.0)\r\n",
      "Requirement already satisfied: networkx in /usr/local/lib/python3.11/dist-packages (from torch) (3.5)\r\n",
      "Requirement already satisfied: jinja2 in /usr/local/lib/python3.11/dist-packages (from torch) (3.1.6)\r\n",
      "Requirement already satisfied: fsspec in /usr/local/lib/python3.11/dist-packages (from torch) (2025.5.1)\r\n",
      "Collecting nvidia-cuda-nvrtc-cu12==12.4.127 (from torch)\r\n",
      "  Downloading nvidia_cuda_nvrtc_cu12-12.4.127-py3-none-manylinux2014_x86_64.whl.metadata (1.5 kB)\r\n",
      "Collecting nvidia-cuda-runtime-cu12==12.4.127 (from torch)\r\n",
      "  Downloading nvidia_cuda_runtime_cu12-12.4.127-py3-none-manylinux2014_x86_64.whl.metadata (1.5 kB)\r\n",
      "Collecting nvidia-cuda-cupti-cu12==12.4.127 (from torch)\r\n",
      "  Downloading nvidia_cuda_cupti_cu12-12.4.127-py3-none-manylinux2014_x86_64.whl.metadata (1.6 kB)\r\n",
      "Collecting nvidia-cudnn-cu12==9.1.0.70 (from torch)\r\n",
      "  Downloading nvidia_cudnn_cu12-9.1.0.70-py3-none-manylinux2014_x86_64.whl.metadata (1.6 kB)\r\n",
      "Collecting nvidia-cublas-cu12==12.4.5.8 (from torch)\r\n",
      "  Downloading nvidia_cublas_cu12-12.4.5.8-py3-none-manylinux2014_x86_64.whl.metadata (1.5 kB)\r\n",
      "Collecting nvidia-cufft-cu12==11.2.1.3 (from torch)\r\n",
      "  Downloading nvidia_cufft_cu12-11.2.1.3-py3-none-manylinux2014_x86_64.whl.metadata (1.5 kB)\r\n",
      "Collecting nvidia-curand-cu12==10.3.5.147 (from torch)\r\n",
      "  Downloading nvidia_curand_cu12-10.3.5.147-py3-none-manylinux2014_x86_64.whl.metadata (1.5 kB)\r\n",
      "Collecting nvidia-cusolver-cu12==11.6.1.9 (from torch)\r\n",
      "  Downloading nvidia_cusolver_cu12-11.6.1.9-py3-none-manylinux2014_x86_64.whl.metadata (1.6 kB)\r\n",
      "Collecting nvidia-cusparse-cu12==12.3.1.170 (from torch)\r\n",
      "  Downloading nvidia_cusparse_cu12-12.3.1.170-py3-none-manylinux2014_x86_64.whl.metadata (1.6 kB)\r\n",
      "Requirement already satisfied: nvidia-cusparselt-cu12==0.6.2 in /usr/local/lib/python3.11/dist-packages (from torch) (0.6.2)\r\n",
      "Requirement already satisfied: nvidia-nccl-cu12==2.21.5 in /usr/local/lib/python3.11/dist-packages (from torch) (2.21.5)\r\n",
      "Requirement already satisfied: nvidia-nvtx-cu12==12.4.127 in /usr/local/lib/python3.11/dist-packages (from torch) (12.4.127)\r\n",
      "Collecting nvidia-nvjitlink-cu12==12.4.127 (from torch)\r\n",
      "  Downloading nvidia_nvjitlink_cu12-12.4.127-py3-none-manylinux2014_x86_64.whl.metadata (1.5 kB)\r\n",
      "Requirement already satisfied: triton==3.2.0 in /usr/local/lib/python3.11/dist-packages (from torch) (3.2.0)\r\n",
      "Requirement already satisfied: sympy==1.13.1 in /usr/local/lib/python3.11/dist-packages (from torch) (1.13.1)\r\n",
      "Requirement already satisfied: mpmath<1.4,>=1.1.0 in /usr/local/lib/python3.11/dist-packages (from sympy==1.13.1->torch) (1.3.0)\r\n",
      "Requirement already satisfied: numpy in /usr/local/lib/python3.11/dist-packages (from torchvision) (1.26.4)\r\n",
      "Requirement already satisfied: pillow!=8.3.*,>=5.3.0 in /usr/local/lib/python3.11/dist-packages (from torchvision) (11.2.1)\r\n",
      "Requirement already satisfied: MarkupSafe>=2.0 in /usr/local/lib/python3.11/dist-packages (from jinja2->torch) (3.0.2)\r\n",
      "Requirement already satisfied: mkl_fft in /usr/local/lib/python3.11/dist-packages (from numpy->torchvision) (1.3.8)\r\n",
      "Requirement already satisfied: mkl_random in /usr/local/lib/python3.11/dist-packages (from numpy->torchvision) (1.2.4)\r\n",
      "Requirement already satisfied: mkl_umath in /usr/local/lib/python3.11/dist-packages (from numpy->torchvision) (0.1.1)\r\n",
      "Requirement already satisfied: mkl in /usr/local/lib/python3.11/dist-packages (from numpy->torchvision) (2025.2.0)\r\n",
      "Requirement already satisfied: tbb4py in /usr/local/lib/python3.11/dist-packages (from numpy->torchvision) (2022.2.0)\r\n",
      "Requirement already satisfied: mkl-service in /usr/local/lib/python3.11/dist-packages (from numpy->torchvision) (2.4.1)\r\n",
      "Requirement already satisfied: intel-openmp<2026,>=2024 in /usr/local/lib/python3.11/dist-packages (from mkl->numpy->torchvision) (2024.2.0)\r\n",
      "Requirement already satisfied: tbb==2022.* in /usr/local/lib/python3.11/dist-packages (from mkl->numpy->torchvision) (2022.2.0)\r\n",
      "Requirement already satisfied: tcmlib==1.* in /usr/local/lib/python3.11/dist-packages (from tbb==2022.*->mkl->numpy->torchvision) (1.4.0)\r\n",
      "Requirement already satisfied: intel-cmplr-lib-rt in /usr/local/lib/python3.11/dist-packages (from mkl_umath->numpy->torchvision) (2024.2.0)\r\n",
      "Requirement already satisfied: intel-cmplr-lib-ur==2024.2.0 in /usr/local/lib/python3.11/dist-packages (from intel-openmp<2026,>=2024->mkl->numpy->torchvision) (2024.2.0)\r\n",
      "Downloading nvidia_cublas_cu12-12.4.5.8-py3-none-manylinux2014_x86_64.whl (363.4 MB)\r\n",
      "\u001b[2K   \u001b[90m━━━━━━━━━━━━━━━━━━━━━━━━━━━━━━━━━━━━━━━━\u001b[0m \u001b[32m363.4/363.4 MB\u001b[0m \u001b[31m3.7 MB/s\u001b[0m eta \u001b[36m0:00:00\u001b[0m\r\n",
      "\u001b[?25hDownloading nvidia_cuda_cupti_cu12-12.4.127-py3-none-manylinux2014_x86_64.whl (13.8 MB)\r\n",
      "\u001b[2K   \u001b[90m━━━━━━━━━━━━━━━━━━━━━━━━━━━━━━━━━━━━━━━━\u001b[0m \u001b[32m13.8/13.8 MB\u001b[0m \u001b[31m77.6 MB/s\u001b[0m eta \u001b[36m0:00:00\u001b[0m\r\n",
      "\u001b[?25hDownloading nvidia_cuda_nvrtc_cu12-12.4.127-py3-none-manylinux2014_x86_64.whl (24.6 MB)\r\n",
      "\u001b[2K   \u001b[90m━━━━━━━━━━━━━━━━━━━━━━━━━━━━━━━━━━━━━━━━\u001b[0m \u001b[32m24.6/24.6 MB\u001b[0m \u001b[31m68.2 MB/s\u001b[0m eta \u001b[36m0:00:00\u001b[0m\r\n",
      "\u001b[?25hDownloading nvidia_cuda_runtime_cu12-12.4.127-py3-none-manylinux2014_x86_64.whl (883 kB)\r\n",
      "\u001b[2K   \u001b[90m━━━━━━━━━━━━━━━━━━━━━━━━━━━━━━━━━━━━━━━━\u001b[0m \u001b[32m883.7/883.7 kB\u001b[0m \u001b[31m33.9 MB/s\u001b[0m eta \u001b[36m0:00:00\u001b[0m\r\n",
      "\u001b[?25hDownloading nvidia_cudnn_cu12-9.1.0.70-py3-none-manylinux2014_x86_64.whl (664.8 MB)\r\n",
      "\u001b[2K   \u001b[90m━━━━━━━━━━━━━━━━━━━━━━━━━━━━━━━━━━━━━━━━\u001b[0m \u001b[32m664.8/664.8 MB\u001b[0m \u001b[31m1.5 MB/s\u001b[0m eta \u001b[36m0:00:00\u001b[0m\r\n",
      "\u001b[?25hDownloading nvidia_cufft_cu12-11.2.1.3-py3-none-manylinux2014_x86_64.whl (211.5 MB)\r\n",
      "\u001b[2K   \u001b[90m━━━━━━━━━━━━━━━━━━━━━━━━━━━━━━━━━━━━━━━━\u001b[0m \u001b[32m211.5/211.5 MB\u001b[0m \u001b[31m3.4 MB/s\u001b[0m eta \u001b[36m0:00:00\u001b[0m\r\n",
      "\u001b[?25hDownloading nvidia_curand_cu12-10.3.5.147-py3-none-manylinux2014_x86_64.whl (56.3 MB)\r\n",
      "\u001b[2K   \u001b[90m━━━━━━━━━━━━━━━━━━━━━━━━━━━━━━━━━━━━━━━━\u001b[0m \u001b[32m56.3/56.3 MB\u001b[0m \u001b[31m5.4 MB/s\u001b[0m eta \u001b[36m0:00:00\u001b[0m\r\n",
      "\u001b[?25hDownloading nvidia_cusolver_cu12-11.6.1.9-py3-none-manylinux2014_x86_64.whl (127.9 MB)\r\n",
      "\u001b[2K   \u001b[90m━━━━━━━━━━━━━━━━━━━━━━━━━━━━━━━━━━━━━━━━\u001b[0m \u001b[32m127.9/127.9 MB\u001b[0m \u001b[31m11.6 MB/s\u001b[0m eta \u001b[36m0:00:00\u001b[0m\r\n",
      "\u001b[?25hDownloading nvidia_cusparse_cu12-12.3.1.170-py3-none-manylinux2014_x86_64.whl (207.5 MB)\r\n",
      "\u001b[2K   \u001b[90m━━━━━━━━━━━━━━━━━━━━━━━━━━━━━━━━━━━━━━━━\u001b[0m \u001b[32m207.5/207.5 MB\u001b[0m \u001b[31m4.1 MB/s\u001b[0m eta \u001b[36m0:00:00\u001b[0m\r\n",
      "\u001b[?25hDownloading nvidia_nvjitlink_cu12-12.4.127-py3-none-manylinux2014_x86_64.whl (21.1 MB)\r\n",
      "\u001b[2K   \u001b[90m━━━━━━━━━━━━━━━━━━━━━━━━━━━━━━━━━━━━━━━━\u001b[0m \u001b[32m21.1/21.1 MB\u001b[0m \u001b[31m32.1 MB/s\u001b[0m eta \u001b[36m0:00:00\u001b[0m\r\n",
      "\u001b[?25hInstalling collected packages: nvidia-nvjitlink-cu12, nvidia-curand-cu12, nvidia-cufft-cu12, nvidia-cuda-runtime-cu12, nvidia-cuda-nvrtc-cu12, nvidia-cuda-cupti-cu12, nvidia-cublas-cu12, nvidia-cusparse-cu12, nvidia-cudnn-cu12, nvidia-cusolver-cu12\r\n",
      "  Attempting uninstall: nvidia-nvjitlink-cu12\r\n",
      "    Found existing installation: nvidia-nvjitlink-cu12 12.5.82\r\n",
      "    Uninstalling nvidia-nvjitlink-cu12-12.5.82:\r\n",
      "      Successfully uninstalled nvidia-nvjitlink-cu12-12.5.82\r\n",
      "  Attempting uninstall: nvidia-curand-cu12\r\n",
      "    Found existing installation: nvidia-curand-cu12 10.3.6.82\r\n",
      "    Uninstalling nvidia-curand-cu12-10.3.6.82:\r\n",
      "      Successfully uninstalled nvidia-curand-cu12-10.3.6.82\r\n",
      "  Attempting uninstall: nvidia-cufft-cu12\r\n",
      "    Found existing installation: nvidia-cufft-cu12 11.2.3.61\r\n",
      "    Uninstalling nvidia-cufft-cu12-11.2.3.61:\r\n",
      "      Successfully uninstalled nvidia-cufft-cu12-11.2.3.61\r\n",
      "  Attempting uninstall: nvidia-cuda-runtime-cu12\r\n",
      "    Found existing installation: nvidia-cuda-runtime-cu12 12.5.82\r\n",
      "    Uninstalling nvidia-cuda-runtime-cu12-12.5.82:\r\n",
      "      Successfully uninstalled nvidia-cuda-runtime-cu12-12.5.82\r\n",
      "  Attempting uninstall: nvidia-cuda-nvrtc-cu12\r\n",
      "    Found existing installation: nvidia-cuda-nvrtc-cu12 12.5.82\r\n",
      "    Uninstalling nvidia-cuda-nvrtc-cu12-12.5.82:\r\n",
      "      Successfully uninstalled nvidia-cuda-nvrtc-cu12-12.5.82\r\n",
      "  Attempting uninstall: nvidia-cuda-cupti-cu12\r\n",
      "    Found existing installation: nvidia-cuda-cupti-cu12 12.5.82\r\n",
      "    Uninstalling nvidia-cuda-cupti-cu12-12.5.82:\r\n",
      "      Successfully uninstalled nvidia-cuda-cupti-cu12-12.5.82\r\n",
      "  Attempting uninstall: nvidia-cublas-cu12\r\n",
      "    Found existing installation: nvidia-cublas-cu12 12.5.3.2\r\n",
      "    Uninstalling nvidia-cublas-cu12-12.5.3.2:\r\n",
      "      Successfully uninstalled nvidia-cublas-cu12-12.5.3.2\r\n",
      "  Attempting uninstall: nvidia-cusparse-cu12\r\n",
      "    Found existing installation: nvidia-cusparse-cu12 12.5.1.3\r\n",
      "    Uninstalling nvidia-cusparse-cu12-12.5.1.3:\r\n",
      "      Successfully uninstalled nvidia-cusparse-cu12-12.5.1.3\r\n",
      "  Attempting uninstall: nvidia-cudnn-cu12\r\n",
      "    Found existing installation: nvidia-cudnn-cu12 9.3.0.75\r\n",
      "    Uninstalling nvidia-cudnn-cu12-9.3.0.75:\r\n",
      "      Successfully uninstalled nvidia-cudnn-cu12-9.3.0.75\r\n",
      "  Attempting uninstall: nvidia-cusolver-cu12\r\n",
      "    Found existing installation: nvidia-cusolver-cu12 11.6.3.83\r\n",
      "    Uninstalling nvidia-cusolver-cu12-11.6.3.83:\r\n",
      "      Successfully uninstalled nvidia-cusolver-cu12-11.6.3.83\r\n",
      "Successfully installed nvidia-cublas-cu12-12.4.5.8 nvidia-cuda-cupti-cu12-12.4.127 nvidia-cuda-nvrtc-cu12-12.4.127 nvidia-cuda-runtime-cu12-12.4.127 nvidia-cudnn-cu12-9.1.0.70 nvidia-cufft-cu12-11.2.1.3 nvidia-curand-cu12-10.3.5.147 nvidia-cusolver-cu12-11.6.1.9 nvidia-cusparse-cu12-12.3.1.170 nvidia-nvjitlink-cu12-12.4.127\r\n"
     ]
    }
   ],
   "source": [
    "!pip3 install torch torchvision torchaudio --extra-index-url https://download.pytorch.org/whl/cu113"
   ]
  },
  {
   "cell_type": "markdown",
   "id": "0520e834",
   "metadata": {
    "papermill": {
     "duration": 0.037247,
     "end_time": "2025-07-25T11:30:39.960894",
     "exception": false,
     "start_time": "2025-07-25T11:30:39.923647",
     "status": "completed"
    },
    "tags": []
   },
   "source": [
    "> "
   ]
  },
  {
   "cell_type": "markdown",
   "id": "80893a47",
   "metadata": {
    "papermill": {
     "duration": 0.152926,
     "end_time": "2025-07-25T11:30:40.151082",
     "exception": false,
     "start_time": "2025-07-25T11:30:39.998156",
     "status": "completed"
    },
    "tags": []
   },
   "source": [
    ">Now, ESRGAN requires to have the pre-trained model under the model folder of the github repository. So, we have to move the pretrained model which we download before from google drive, to the model folder. If you do this on your local machine, you can just, copy-paste the model, but since i'm doing it on kaggle kernel so, i need to do it through some code."
   ]
  },
  {
   "cell_type": "code",
   "execution_count": 9,
   "id": "f1f610c8",
   "metadata": {
    "execution": {
     "iopub.execute_input": "2025-07-25T11:30:40.229090Z",
     "iopub.status.busy": "2025-07-25T11:30:40.228075Z",
     "iopub.status.idle": "2025-07-25T11:30:40.238215Z",
     "shell.execute_reply": "2025-07-25T11:30:40.237431Z"
    },
    "papermill": {
     "duration": 0.050977,
     "end_time": "2025-07-25T11:30:40.239694",
     "exception": false,
     "start_time": "2025-07-25T11:30:40.188717",
     "status": "completed"
    },
    "tags": []
   },
   "outputs": [
    {
     "data": {
      "text/plain": [
       "'./ESRGAN/models/RRDB_ESRGAN_x4.pth'"
      ]
     },
     "execution_count": 9,
     "metadata": {},
     "output_type": "execute_result"
    }
   ],
   "source": [
    "import os, shutil\n",
    "source = \"./RRDB_ESRGAN_x4.pth\"\n",
    "destination = \"./ESRGAN/models/\"\n",
    "shutil.move(source,destination)"
   ]
  },
  {
   "cell_type": "code",
   "execution_count": 10,
   "id": "6b7fce2b",
   "metadata": {
    "execution": {
     "iopub.execute_input": "2025-07-25T11:30:40.316668Z",
     "iopub.status.busy": "2025-07-25T11:30:40.316324Z",
     "iopub.status.idle": "2025-07-25T11:30:40.326805Z",
     "shell.execute_reply": "2025-07-25T11:30:40.325874Z"
    },
    "papermill": {
     "duration": 0.051003,
     "end_time": "2025-07-25T11:30:40.328145",
     "exception": false,
     "start_time": "2025-07-25T11:30:40.277142",
     "status": "completed"
    },
    "tags": []
   },
   "outputs": [
    {
     "name": "stdout",
     "output_type": "stream",
     "text": [
      "📁 working/\n",
      "├─📄 __notebook__.ipynb\n",
      "└─📁 ESRGAN/\n",
      "  ├─📄 README.md\n",
      "  ├─📄 LICENSE\n",
      "  ├─📄 test.py\n",
      "  ├─📁 LR/\n",
      "  │ ├─📄 comic.png\n",
      "  │ └─📄 baboon.png\n",
      "  ├─📄 net_interp.py\n",
      "  ├─📄 transer_RRDB_models.py\n",
      "  ├─📄 QA.md\n",
      "  ├─📄 RRDBNet_arch.py\n",
      "  ├─📄 .gitignore\n",
      "  ├─📁 results/\n",
      "  │ └─📄 baboon_ESRGAN.png\n",
      "  ├─📁 .git/\n",
      "  │ ├─📄 index\n",
      "  │ ├─📁 objects/\n",
      "  │ │ ├─📁 info/\n",
      "  │ │ └─📁 pack/\n",
      "  │ │   ├─📄 pack-746fb321eca9bded911514960e1278300ffe9aed.pack\n",
      "  │ │   └─📄 pack-746fb321eca9bded911514960e1278300ffe9aed.idx\n",
      "  │ ├─📄 config\n",
      "  │ ├─📁 logs/\n",
      "  │ │ ├─📄 HEAD\n",
      "  │ │ └─📁 refs/\n",
      "  │ │   ├─📁 heads/\n",
      "  │ │   │ └─📄 master\n",
      "  │ │   └─📁 remotes/\n",
      "  │ │     └─📁 origin/\n",
      "  │ │       └─📄 HEAD\n",
      "  │ ├─📄 HEAD\n",
      "  │ ├─📁 branches/\n",
      "  │ ├─📁 hooks/\n",
      "  │ │ ├─📄 push-to-checkout.sample\n",
      "  │ │ ├─📄 post-update.sample\n",
      "  │ │ ├─📄 pre-commit.sample\n",
      "  │ │ ├─📄 pre-merge-commit.sample\n",
      "  │ │ ├─📄 pre-receive.sample\n",
      "  │ │ ├─📄 pre-rebase.sample\n",
      "  │ │ ├─📄 commit-msg.sample\n",
      "  │ │ ├─📄 fsmonitor-watchman.sample\n",
      "  │ │ ├─📄 pre-push.sample\n",
      "  │ │ ├─📄 pre-applypatch.sample\n",
      "  │ │ ├─📄 applypatch-msg.sample\n",
      "  │ │ ├─📄 update.sample\n",
      "  │ │ └─📄 prepare-commit-msg.sample\n",
      "  │ ├─📁 info/\n",
      "  │ │ └─📄 exclude\n",
      "  │ ├─📄 description\n",
      "  │ ├─📁 refs/\n",
      "  │ │ ├─📁 tags/\n",
      "  │ │ ├─📁 heads/\n",
      "  │ │ │ └─📄 master\n",
      "  │ │ └─📁 remotes/\n",
      "  │ │   └─📁 origin/\n",
      "  │ │     └─📄 HEAD\n",
      "  │ └─📄 packed-refs\n",
      "  ├─📁 figures/\n",
      "  │ ├─📄 train_deeper_neta.png\n",
      "  │ ├─📄 102061.gif\n",
      "  │ ├─📄 patch_b.png\n",
      "  │ ├─📄 baboon.jpg\n",
      "  │ ├─📄 qualitative_cmp_01.jpg\n",
      "  │ ├─📄 81.gif\n",
      "  │ ├─📄 qualitative_cmp_03.jpg\n",
      "  │ ├─📄 abalation_study.png\n",
      "  │ ├─📄 net_interp.jpg\n",
      "  │ ├─📄 43074.gif\n",
      "  │ ├─📄 architecture.jpg\n",
      "  │ ├─📄 RRDB.png\n",
      "  │ ├─📄 qualitative_cmp_02.jpg\n",
      "  │ ├─📄 qualitative_cmp_04.jpg\n",
      "  │ ├─📄 BN_artifacts.jpg\n",
      "  │ ├─📄 train_deeper_netb.png\n",
      "  │ └─📄 patch_a.png\n",
      "  └─📁 models/\n",
      "    ├─📄 README.md\n",
      "    └─📄 RRDB_ESRGAN_x4.pth\n"
     ]
    }
   ],
   "source": [
    "import seedir as sd\n",
    "sd.seedir('./', style='emoji')"
   ]
  },
  {
   "cell_type": "markdown",
   "id": "51869c06",
   "metadata": {
    "papermill": {
     "duration": 0.037143,
     "end_time": "2025-07-25T11:30:40.403578",
     "exception": false,
     "start_time": "2025-07-25T11:30:40.366435",
     "status": "completed"
    },
    "tags": []
   },
   "source": [
    ">- We can see that our pretrained model successfully shifted under the model folder.\n",
    ">Now,For testing, you need to add your images under the LR folder of the git repository. Here, i'm going to add some images for testing purpose. For that i'm downloading some images from my drive first. Then i'll move these images under the LR folder."
   ]
  },
  {
   "cell_type": "code",
   "execution_count": 11,
   "id": "e798c459",
   "metadata": {
    "_kg_hide-output": true,
    "execution": {
     "iopub.execute_input": "2025-07-25T11:30:40.480662Z",
     "iopub.status.busy": "2025-07-25T11:30:40.480315Z",
     "iopub.status.idle": "2025-07-25T11:30:54.506226Z",
     "shell.execute_reply": "2025-07-25T11:30:54.504736Z"
    },
    "papermill": {
     "duration": 14.065792,
     "end_time": "2025-07-25T11:30:54.508047",
     "exception": false,
     "start_time": "2025-07-25T11:30:40.442255",
     "status": "completed"
    },
    "tags": []
   },
   "outputs": [
    {
     "name": "stdout",
     "output_type": "stream",
     "text": [
      "/usr/local/lib/python3.11/dist-packages/gdown/__main__.py:140: FutureWarning: Option `--id` was deprecated in version 4.3.1 and will be removed in 5.0. You don't need to pass it anymore to use a file ID.\r\n",
      "  warnings.warn(\r\n",
      "Downloading...\r\n",
      "From: https://drive.google.com/uc?id=1sdB-k6-XHzN8WfAA51d8l1b7Q0TH9iBt\r\n",
      "To: /kaggle/working/horse.jpg\r\n",
      "100%|██████████████████████████████████████| 5.40k/5.40k [00:00<00:00, 12.8MB/s]\r\n",
      "/usr/local/lib/python3.11/dist-packages/gdown/__main__.py:140: FutureWarning: Option `--id` was deprecated in version 4.3.1 and will be removed in 5.0. You don't need to pass it anymore to use a file ID.\r\n",
      "  warnings.warn(\r\n",
      "Downloading...\r\n",
      "From: https://drive.google.com/uc?id=1JIlrwnID8-sb16DByx2vmnXIfCrFBOFb\r\n",
      "To: /kaggle/working/image2.jpg\r\n",
      "100%|██████████████████████████████████████| 53.2k/53.2k [00:00<00:00, 57.7MB/s]\r\n",
      "/usr/local/lib/python3.11/dist-packages/gdown/__main__.py:140: FutureWarning: Option `--id` was deprecated in version 4.3.1 and will be removed in 5.0. You don't need to pass it anymore to use a file ID.\r\n",
      "  warnings.warn(\r\n",
      "Downloading...\r\n",
      "From: https://drive.google.com/uc?id=1-dl-OtffdxzIgtYjZ8fQXkzkCNLEDSHu\r\n",
      "To: /kaggle/working/img3.jpg\r\n",
      "100%|████████████████████████████████████████| 106k/106k [00:00<00:00, 72.1MB/s]\r\n",
      "/usr/local/lib/python3.11/dist-packages/gdown/__main__.py:140: FutureWarning: Option `--id` was deprecated in version 4.3.1 and will be removed in 5.0. You don't need to pass it anymore to use a file ID.\r\n",
      "  warnings.warn(\r\n",
      "Downloading...\r\n",
      "From: https://drive.google.com/uc?id=1TAaSaVzf7Lfw6yT2ROuuiPSwnuCoYsRT\r\n",
      "To: /kaggle/working/img5.jpg\r\n",
      "100%|██████████████████████████████████████| 32.2k/32.2k [00:00<00:00, 54.4MB/s]\r\n",
      "/usr/local/lib/python3.11/dist-packages/gdown/__main__.py:140: FutureWarning: Option `--id` was deprecated in version 4.3.1 and will be removed in 5.0. You don't need to pass it anymore to use a file ID.\r\n",
      "  warnings.warn(\r\n",
      "Downloading...\r\n",
      "From: https://drive.google.com/uc?id=1v_9DWkmPVyBVR3Ax_OVepMhvmFXVsScT\r\n",
      "To: /kaggle/working/img6.jpg\r\n",
      "100%|██████████████████████████████████████| 89.0k/89.0k [00:00<00:00, 68.6MB/s]\r\n"
     ]
    }
   ],
   "source": [
    "!gdown --id 1sdB-k6-XHzN8WfAA51d8l1b7Q0TH9iBt\n",
    "!gdown --id 1JIlrwnID8-sb16DByx2vmnXIfCrFBOFb\n",
    "!gdown --id 1-dl-OtffdxzIgtYjZ8fQXkzkCNLEDSHu\n",
    "!gdown --id 1TAaSaVzf7Lfw6yT2ROuuiPSwnuCoYsRT\n",
    "!gdown --id 1v_9DWkmPVyBVR3Ax_OVepMhvmFXVsScT"
   ]
  },
  {
   "cell_type": "code",
   "execution_count": 12,
   "id": "72468534",
   "metadata": {
    "execution": {
     "iopub.execute_input": "2025-07-25T11:30:54.588091Z",
     "iopub.status.busy": "2025-07-25T11:30:54.587749Z",
     "iopub.status.idle": "2025-07-25T11:30:54.593527Z",
     "shell.execute_reply": "2025-07-25T11:30:54.592840Z"
    },
    "papermill": {
     "duration": 0.048122,
     "end_time": "2025-07-25T11:30:54.594829",
     "exception": false,
     "start_time": "2025-07-25T11:30:54.546707",
     "status": "completed"
    },
    "tags": []
   },
   "outputs": [],
   "source": [
    "#moving these images under the LR folder\n",
    "for i in os.listdir(\"./\"):\n",
    "    if \"im\" in i:\n",
    "        source = f\"./{i}\"\n",
    "        destination = \"./ESRGAN/LR/\"\n",
    "        shutil.move(source,destination)"
   ]
  },
  {
   "cell_type": "code",
   "execution_count": 13,
   "id": "728c12cc",
   "metadata": {
    "execution": {
     "iopub.execute_input": "2025-07-25T11:30:54.676330Z",
     "iopub.status.busy": "2025-07-25T11:30:54.675995Z",
     "iopub.status.idle": "2025-07-25T11:30:54.681976Z",
     "shell.execute_reply": "2025-07-25T11:30:54.681354Z"
    },
    "papermill": {
     "duration": 0.047851,
     "end_time": "2025-07-25T11:30:54.683576",
     "exception": false,
     "start_time": "2025-07-25T11:30:54.635725",
     "status": "completed"
    },
    "tags": []
   },
   "outputs": [
    {
     "data": {
      "text/plain": [
       "'./ESRGAN/LR/horse.jpg'"
      ]
     },
     "execution_count": 13,
     "metadata": {},
     "output_type": "execute_result"
    }
   ],
   "source": [
    "source = \"./horse.jpg\"\n",
    "destination = \"./ESRGAN/LR/\"\n",
    "shutil.move(source,destination)"
   ]
  },
  {
   "cell_type": "code",
   "execution_count": 14,
   "id": "2dd5564d",
   "metadata": {
    "execution": {
     "iopub.execute_input": "2025-07-25T11:30:54.762532Z",
     "iopub.status.busy": "2025-07-25T11:30:54.762172Z",
     "iopub.status.idle": "2025-07-25T11:30:54.881615Z",
     "shell.execute_reply": "2025-07-25T11:30:54.880556Z"
    },
    "papermill": {
     "duration": 0.160788,
     "end_time": "2025-07-25T11:30:54.883306",
     "exception": false,
     "start_time": "2025-07-25T11:30:54.722518",
     "status": "completed"
    },
    "tags": []
   },
   "outputs": [
    {
     "name": "stdout",
     "output_type": "stream",
     "text": [
      "/kaggle/working\r\n"
     ]
    }
   ],
   "source": [
    "!pwd"
   ]
  },
  {
   "cell_type": "markdown",
   "id": "62b9141b",
   "metadata": {
    "papermill": {
     "duration": 0.038176,
     "end_time": "2025-07-25T11:30:54.959583",
     "exception": false,
     "start_time": "2025-07-25T11:30:54.921407",
     "status": "completed"
    },
    "tags": []
   },
   "source": [
    "> Now, to train the model which is under the ESRGAN folder. You, need to go to this directory. So, first we'll shift our working directory then we need to run the script called\n",
    "test.py, which is going to train the model."
   ]
  },
  {
   "cell_type": "code",
   "execution_count": 15,
   "id": "674b9abf",
   "metadata": {
    "execution": {
     "iopub.execute_input": "2025-07-25T11:30:55.038559Z",
     "iopub.status.busy": "2025-07-25T11:30:55.037700Z",
     "iopub.status.idle": "2025-07-25T11:31:01.939243Z",
     "shell.execute_reply": "2025-07-25T11:31:01.938250Z"
    },
    "papermill": {
     "duration": 6.942816,
     "end_time": "2025-07-25T11:31:01.941105",
     "exception": false,
     "start_time": "2025-07-25T11:30:54.998289",
     "status": "completed"
    },
    "tags": []
   },
   "outputs": [
    {
     "name": "stdout",
     "output_type": "stream",
     "text": [
      "/kaggle/working/ESRGAN\n",
      "Traceback (most recent call last):\r\n",
      "  File \"/kaggle/working/ESRGAN/test.py\", line 17, in <module>\r\n",
      "    model = model.to(device)\r\n",
      "            ^^^^^^^^^^^^^^^^\r\n",
      "  File \"/usr/local/lib/python3.11/dist-packages/torch/nn/modules/module.py\", line 1343, in to\r\n",
      "    return self._apply(convert)\r\n",
      "           ^^^^^^^^^^^^^^^^^^^^\r\n",
      "  File \"/usr/local/lib/python3.11/dist-packages/torch/nn/modules/module.py\", line 903, in _apply\r\n",
      "    module._apply(fn)\r\n",
      "  File \"/usr/local/lib/python3.11/dist-packages/torch/nn/modules/module.py\", line 930, in _apply\r\n",
      "    param_applied = fn(param)\r\n",
      "                    ^^^^^^^^^\r\n",
      "  File \"/usr/local/lib/python3.11/dist-packages/torch/nn/modules/module.py\", line 1329, in convert\r\n",
      "    return t.to(\r\n",
      "           ^^^^^\r\n",
      "  File \"/usr/local/lib/python3.11/dist-packages/torch/cuda/__init__.py\", line 319, in _lazy_init\r\n",
      "    torch._C._cuda_init()\r\n",
      "RuntimeError: Found no NVIDIA driver on your system. Please check that you have an NVIDIA GPU and installed a driver from http://www.nvidia.com/Download/index.aspx\r\n"
     ]
    }
   ],
   "source": [
    "%cd ESRGAN\n",
    "!python test.py"
   ]
  },
  {
   "cell_type": "code",
   "execution_count": 16,
   "id": "5d783f6a",
   "metadata": {
    "execution": {
     "iopub.execute_input": "2025-07-25T11:31:02.021057Z",
     "iopub.status.busy": "2025-07-25T11:31:02.020444Z",
     "iopub.status.idle": "2025-07-25T11:31:02.027010Z",
     "shell.execute_reply": "2025-07-25T11:31:02.026241Z"
    },
    "papermill": {
     "duration": 0.048027,
     "end_time": "2025-07-25T11:31:02.028516",
     "exception": false,
     "start_time": "2025-07-25T11:31:01.980489",
     "status": "completed"
    },
    "tags": []
   },
   "outputs": [
    {
     "name": "stdout",
     "output_type": "stream",
     "text": [
      "/kaggle/working\n"
     ]
    }
   ],
   "source": [
    "%cd /kaggle/working/"
   ]
  },
  {
   "cell_type": "code",
   "execution_count": 17,
   "id": "05ae4202",
   "metadata": {
    "execution": {
     "iopub.execute_input": "2025-07-25T11:31:02.108706Z",
     "iopub.status.busy": "2025-07-25T11:31:02.108405Z",
     "iopub.status.idle": "2025-07-25T11:31:02.543304Z",
     "shell.execute_reply": "2025-07-25T11:31:02.541970Z"
    },
    "papermill": {
     "duration": 0.476406,
     "end_time": "2025-07-25T11:31:02.544785",
     "exception": true,
     "start_time": "2025-07-25T11:31:02.068379",
     "status": "failed"
    },
    "tags": []
   },
   "outputs": [
    {
     "ename": "FileNotFoundError",
     "evalue": "[Errno 2] No such file or directory: './ESRGAN/results/comic_rlt.png'",
     "output_type": "error",
     "traceback": [
      "\u001b[0;31m---------------------------------------------------------------------------\u001b[0m",
      "\u001b[0;31mFileNotFoundError\u001b[0m                         Traceback (most recent call last)",
      "\u001b[0;32m/tmp/ipykernel_13/4146966655.py\u001b[0m in \u001b[0;36m<cell line: 0>\u001b[0;34m()\u001b[0m\n\u001b[1;32m      6\u001b[0m \u001b[0mplt\u001b[0m\u001b[0;34m.\u001b[0m\u001b[0mimshow\u001b[0m\u001b[0;34m(\u001b[0m\u001b[0mimg1\u001b[0m\u001b[0;34m)\u001b[0m\u001b[0;34m\u001b[0m\u001b[0;34m\u001b[0m\u001b[0m\n\u001b[1;32m      7\u001b[0m \u001b[0;34m\u001b[0m\u001b[0m\n\u001b[0;32m----> 8\u001b[0;31m \u001b[0mimg2\u001b[0m \u001b[0;34m=\u001b[0m \u001b[0mplt\u001b[0m\u001b[0;34m.\u001b[0m\u001b[0mimread\u001b[0m\u001b[0;34m(\u001b[0m\u001b[0;34mf\"./ESRGAN/results/comic_rlt.png\"\u001b[0m\u001b[0;34m)\u001b[0m\u001b[0;34m\u001b[0m\u001b[0;34m\u001b[0m\u001b[0m\n\u001b[0m\u001b[1;32m      9\u001b[0m \u001b[0mplt\u001b[0m\u001b[0;34m.\u001b[0m\u001b[0msubplot\u001b[0m\u001b[0;34m(\u001b[0m\u001b[0;36m1\u001b[0m\u001b[0;34m,\u001b[0m\u001b[0;36m2\u001b[0m\u001b[0;34m,\u001b[0m\u001b[0;36m2\u001b[0m\u001b[0;34m)\u001b[0m\u001b[0;34m\u001b[0m\u001b[0;34m\u001b[0m\u001b[0m\n\u001b[1;32m     10\u001b[0m \u001b[0mplt\u001b[0m\u001b[0;34m.\u001b[0m\u001b[0mxlabel\u001b[0m\u001b[0;34m(\u001b[0m\u001b[0;34m\"After\"\u001b[0m\u001b[0;34m)\u001b[0m\u001b[0;34m\u001b[0m\u001b[0;34m\u001b[0m\u001b[0m\n",
      "\u001b[0;32m/usr/local/lib/python3.11/dist-packages/matplotlib/pyplot.py\u001b[0m in \u001b[0;36mimread\u001b[0;34m(fname, format)\u001b[0m\n\u001b[1;32m   2193\u001b[0m \u001b[0;34m@\u001b[0m\u001b[0m_copy_docstring_and_deprecators\u001b[0m\u001b[0;34m(\u001b[0m\u001b[0mmatplotlib\u001b[0m\u001b[0;34m.\u001b[0m\u001b[0mimage\u001b[0m\u001b[0;34m.\u001b[0m\u001b[0mimread\u001b[0m\u001b[0;34m)\u001b[0m\u001b[0;34m\u001b[0m\u001b[0;34m\u001b[0m\u001b[0m\n\u001b[1;32m   2194\u001b[0m \u001b[0;32mdef\u001b[0m \u001b[0mimread\u001b[0m\u001b[0;34m(\u001b[0m\u001b[0mfname\u001b[0m\u001b[0;34m,\u001b[0m \u001b[0mformat\u001b[0m\u001b[0;34m=\u001b[0m\u001b[0;32mNone\u001b[0m\u001b[0;34m)\u001b[0m\u001b[0;34m:\u001b[0m\u001b[0;34m\u001b[0m\u001b[0;34m\u001b[0m\u001b[0m\n\u001b[0;32m-> 2195\u001b[0;31m     \u001b[0;32mreturn\u001b[0m \u001b[0mmatplotlib\u001b[0m\u001b[0;34m.\u001b[0m\u001b[0mimage\u001b[0m\u001b[0;34m.\u001b[0m\u001b[0mimread\u001b[0m\u001b[0;34m(\u001b[0m\u001b[0mfname\u001b[0m\u001b[0;34m,\u001b[0m \u001b[0mformat\u001b[0m\u001b[0;34m)\u001b[0m\u001b[0;34m\u001b[0m\u001b[0;34m\u001b[0m\u001b[0m\n\u001b[0m\u001b[1;32m   2196\u001b[0m \u001b[0;34m\u001b[0m\u001b[0m\n\u001b[1;32m   2197\u001b[0m \u001b[0;34m\u001b[0m\u001b[0m\n",
      "\u001b[0;32m/usr/local/lib/python3.11/dist-packages/matplotlib/image.py\u001b[0m in \u001b[0;36mimread\u001b[0;34m(fname, format)\u001b[0m\n\u001b[1;32m   1561\u001b[0m             \u001b[0;34m\"``np.array(PIL.Image.open(urllib.request.urlopen(url)))``.\"\u001b[0m\u001b[0;34m\u001b[0m\u001b[0;34m\u001b[0m\u001b[0m\n\u001b[1;32m   1562\u001b[0m             )\n\u001b[0;32m-> 1563\u001b[0;31m     \u001b[0;32mwith\u001b[0m \u001b[0mimg_open\u001b[0m\u001b[0;34m(\u001b[0m\u001b[0mfname\u001b[0m\u001b[0;34m)\u001b[0m \u001b[0;32mas\u001b[0m \u001b[0mimage\u001b[0m\u001b[0;34m:\u001b[0m\u001b[0;34m\u001b[0m\u001b[0;34m\u001b[0m\u001b[0m\n\u001b[0m\u001b[1;32m   1564\u001b[0m         return (_pil_png_to_float_array(image)\n\u001b[1;32m   1565\u001b[0m                 \u001b[0;32mif\u001b[0m \u001b[0misinstance\u001b[0m\u001b[0;34m(\u001b[0m\u001b[0mimage\u001b[0m\u001b[0;34m,\u001b[0m \u001b[0mPIL\u001b[0m\u001b[0;34m.\u001b[0m\u001b[0mPngImagePlugin\u001b[0m\u001b[0;34m.\u001b[0m\u001b[0mPngImageFile\u001b[0m\u001b[0;34m)\u001b[0m \u001b[0;32melse\u001b[0m\u001b[0;34m\u001b[0m\u001b[0;34m\u001b[0m\u001b[0m\n",
      "\u001b[0;32m/usr/local/lib/python3.11/dist-packages/PIL/ImageFile.py\u001b[0m in \u001b[0;36m__init__\u001b[0;34m(self, fp, filename)\u001b[0m\n\u001b[1;32m    133\u001b[0m         \u001b[0;32mif\u001b[0m \u001b[0mis_path\u001b[0m\u001b[0;34m(\u001b[0m\u001b[0mfp\u001b[0m\u001b[0;34m)\u001b[0m\u001b[0;34m:\u001b[0m\u001b[0;34m\u001b[0m\u001b[0;34m\u001b[0m\u001b[0m\n\u001b[1;32m    134\u001b[0m             \u001b[0;31m# filename\u001b[0m\u001b[0;34m\u001b[0m\u001b[0;34m\u001b[0m\u001b[0m\n\u001b[0;32m--> 135\u001b[0;31m             \u001b[0mself\u001b[0m\u001b[0;34m.\u001b[0m\u001b[0mfp\u001b[0m \u001b[0;34m=\u001b[0m \u001b[0mopen\u001b[0m\u001b[0;34m(\u001b[0m\u001b[0mfp\u001b[0m\u001b[0;34m,\u001b[0m \u001b[0;34m\"rb\"\u001b[0m\u001b[0;34m)\u001b[0m\u001b[0;34m\u001b[0m\u001b[0;34m\u001b[0m\u001b[0m\n\u001b[0m\u001b[1;32m    136\u001b[0m             \u001b[0mself\u001b[0m\u001b[0;34m.\u001b[0m\u001b[0mfilename\u001b[0m \u001b[0;34m=\u001b[0m \u001b[0mos\u001b[0m\u001b[0;34m.\u001b[0m\u001b[0mfspath\u001b[0m\u001b[0;34m(\u001b[0m\u001b[0mfp\u001b[0m\u001b[0;34m)\u001b[0m\u001b[0;34m\u001b[0m\u001b[0;34m\u001b[0m\u001b[0m\n\u001b[1;32m    137\u001b[0m             \u001b[0mself\u001b[0m\u001b[0;34m.\u001b[0m\u001b[0m_exclusive_fp\u001b[0m \u001b[0;34m=\u001b[0m \u001b[0;32mTrue\u001b[0m\u001b[0;34m\u001b[0m\u001b[0;34m\u001b[0m\u001b[0m\n",
      "\u001b[0;31mFileNotFoundError\u001b[0m: [Errno 2] No such file or directory: './ESRGAN/results/comic_rlt.png'"
     ]
    },
    {
     "data": {
      "image/png": "[encoded data removed]",
      "text/plain": [
       "<Figure size 1200x500 with 1 Axes>"
      ]
     },
     "metadata": {},
     "output_type": "display_data"
    }
   ],
   "source": [
    "import matplotlib.pyplot as plt\n",
    "plt.figure(figsize=(12,5))\n",
    "img1 = plt.imread(f\"./ESRGAN/LR/comic.png\")\n",
    "plt.subplot(1,2,1)\n",
    "plt.xlabel(\"Before\")\n",
    "plt.imshow(img1)\n",
    "\n",
    "img2 = plt.imread(f\"./ESRGAN/results/comic_rlt.png\")\n",
    "plt.subplot(1,2,2)\n",
    "plt.xlabel(\"After\")\n",
    "plt.imshow(img2)\n",
    "plt.tight_layout()\n",
    "plt.show()"
   ]
  },
  {
   "cell_type": "code",
   "execution_count": null,
   "id": "884e5949",
   "metadata": {
    "execution": {
     "iopub.execute_input": "2022-10-22T15:05:19.670782Z",
     "iopub.status.busy": "2022-10-22T15:05:19.670065Z",
     "iopub.status.idle": "2022-10-22T15:05:20.310223Z",
     "shell.execute_reply": "2022-10-22T15:05:20.309419Z",
     "shell.execute_reply.started": "2022-10-22T15:05:19.670734Z"
    },
    "papermill": {
     "duration": null,
     "end_time": null,
     "exception": null,
     "start_time": null,
     "status": "pending"
    },
    "tags": []
   },
   "outputs": [],
   "source": [
    "plt.figure(figsize=(12,5))\n",
    "img1 = plt.imread(f\"./ESRGAN/LR/baboon.png\")\n",
    "plt.subplot(1,2,1)\n",
    "plt.xlabel(\"Before\")\n",
    "plt.imshow(img1)\n",
    "\n",
    "img2 = plt.imread(f\"./ESRGAN/results/baboon_rlt.png\")\n",
    "plt.subplot(1,2,2)\n",
    "plt.xlabel(\"After\")\n",
    "plt.imshow(img2)\n",
    "plt.tight_layout()\n",
    "plt.show()"
   ]
  },
  {
   "cell_type": "code",
   "execution_count": null,
   "id": "0b0dbf06",
   "metadata": {
    "execution": {
     "iopub.execute_input": "2022-10-22T15:23:47.918722Z",
     "iopub.status.busy": "2022-10-22T15:23:47.918320Z",
     "iopub.status.idle": "2022-10-22T15:23:51.307760Z",
     "shell.execute_reply": "2022-10-22T15:23:51.306832Z",
     "shell.execute_reply.started": "2022-10-22T15:23:47.918688Z"
    },
    "papermill": {
     "duration": null,
     "end_time": null,
     "exception": null,
     "start_time": null,
     "status": "pending"
    },
    "tags": []
   },
   "outputs": [],
   "source": [
    "plt.figure(figsize=(12,5))\n",
    "img1 = plt.imread(f\"./ESRGAN/LR/img3.jpg\")\n",
    "plt.subplot(1,2,1)\n",
    "plt.xlabel(\"Before\")\n",
    "plt.imshow(img1)\n",
    "\n",
    "img2 = plt.imread(f\"./ESRGAN/results/img3_rlt.png\")\n",
    "plt.subplot(1,2,2)\n",
    "plt.xlabel(\"After\")\n",
    "plt.imshow(img2)\n",
    "plt.tight_layout()\n",
    "plt.show()"
   ]
  },
  {
   "cell_type": "code",
   "execution_count": null,
   "id": "ae9fdba8",
   "metadata": {
    "execution": {
     "iopub.execute_input": "2022-10-22T15:23:56.669642Z",
     "iopub.status.busy": "2022-10-22T15:23:56.669264Z",
     "iopub.status.idle": "2022-10-22T15:23:58.358647Z",
     "shell.execute_reply": "2022-10-22T15:23:58.357606Z",
     "shell.execute_reply.started": "2022-10-22T15:23:56.669610Z"
    },
    "papermill": {
     "duration": null,
     "end_time": null,
     "exception": null,
     "start_time": null,
     "status": "pending"
    },
    "tags": []
   },
   "outputs": [],
   "source": [
    "plt.figure(figsize=(12,5))\n",
    "img1 = plt.imread(f\"./ESRGAN/LR/img6.jpg\")\n",
    "plt.subplot(1,2,1)\n",
    "plt.xlabel(\"Before\")\n",
    "plt.imshow(img1)\n",
    "\n",
    "img2 = plt.imread(f\"./ESRGAN/results/img6_rlt.png\")\n",
    "plt.subplot(1,2,2)\n",
    "plt.xlabel(\"After\")\n",
    "plt.imshow(img2)\n",
    "plt.tight_layout()\n",
    "plt.show()"
   ]
  },
  {
   "cell_type": "code",
   "execution_count": null,
   "id": "5bebfa42",
   "metadata": {
    "papermill": {
     "duration": null,
     "end_time": null,
     "exception": null,
     "start_time": null,
     "status": "pending"
    },
    "tags": []
   },
   "outputs": [],
   "source": []
  }
 ],
 "metadata": {
  "kernelspec": {
   "display_name": "Python 3",
   "language": "python",
   "name": "python3"
  },
  "language_info": {
   "codemirror_mode": {
    "name": "ipython",
    "version": 3
   },
   "file_extension": ".py",
   "mimetype": "text/x-python",
   "name": "python",
   "nbconvert_exporter": "python",
   "pygments_lexer": "ipython3",
   "version": "3.11.13"
  },
  "papermill": {
   "default_parameters": {},
   "duration": 152.745008,
   "end_time": "2025-07-25T11:31:03.105604",
   "environment_variables": {},
   "exception": true,
   "input_path": "__notebook__.ipynb",
   "output_path": "__notebook__.ipynb",
   "parameters": {},
   "start_time": "2025-07-25T11:28:30.360596",
   "version": "2.6.0"
  }
 },
 "nbformat": 4,
 "nbformat_minor": 5
}
